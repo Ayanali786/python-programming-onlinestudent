{
 "cells": [
  {
   "cell_type": "code",
   "execution_count": 1,
   "metadata": {},
   "outputs": [
    {
     "name": "stdout",
     "output_type": "stream",
     "text": [
      "Enter your marks of English out of 100 = 85\n",
      "Enter your marks of Urdu out of 100 = 97\n",
      "Enter your marks of Chemistry out of 100 = 68\n",
      "Enter your marks of Physics out of 100 = 75\n",
      "Enter your marks of Maths out of 100 = 97\n",
      "Enter your marks of Pakistan Studies out of 100 = 78\n",
      "Enter your marks of Islamiat out of 100 = 59\n",
      "Your Total Marks are 559\n",
      "Your Percentage is 79.85714285714286\n",
      "Congratulations You have secured Grade C\n"
     ]
    }
   ],
   "source": [
    "English= int(input(\"Enter your marks of English out of 100 = \"))\n",
    "Urdu= int(input(\"Enter your marks of Urdu out of 100 = \"))\n",
    "Chemistry= int(input(\"Enter your marks of Chemistry out of 100 = \"))\n",
    "Physics= int(input(\"Enter your marks of Physics out of 100 = \"))\n",
    "Maths= int(input(\"Enter your marks of Maths out of 100 = \"))\n",
    "Pakistan_Studies= int(input(\"Enter your marks of Pakistan Studies out of 100 = \"))\n",
    "Islamiat= int(input(\"Enter your marks of Islamiat out of 100 = \"))\n",
    "\n",
    "Total_marks= English+Urdu+Chemistry+Physics+Maths+Pakistan_Studies+Islamiat\n",
    "Percentage= (Total_marks/700)*100\n",
    "print(\"Your Total Marks are \" + str(Total_marks))\n",
    "print(\"Your Percentage is\" + \" \" + str(Percentage)) \n",
    "if Percentage >= 90 and Percentage <=100:    \n",
    "    print(\"Congratulations! You have secured Grade A\")\n",
    "elif Percentage <90 and Percentage >=80:    \n",
    "    print(\"Congratulations! You have secured Grade B\")\n",
    "elif Percentage <80 and Percentage >=70:    \n",
    "    print(\"Congratulations You have secured Grade C\")\n",
    "elif Percentage <70 and Percentage >=60:    \n",
    "    print(\"Congratulations You have secured Grade D\")\n",
    "else:\n",
    "    print(\"You have failed in examinations\")\n"
   ]
  },
  {
   "cell_type": "code",
   "execution_count": 2,
   "metadata": {},
   "outputs": [
    {
     "name": "stdout",
     "output_type": "stream",
     "text": [
      "Enter the number: 7\n",
      "7  is Odd number\n"
     ]
    }
   ],
   "source": [
    "num = int(input('Enter the number: '))\n",
    "if (num%2==0):\n",
    "     print(num,\" is Even number\")\n",
    "else:\n",
    "    print(num,\" is Odd number\")\n"
   ]
  },
  {
   "cell_type": "code",
   "execution_count": 3,
   "metadata": {},
   "outputs": [
    {
     "name": "stdout",
     "output_type": "stream",
     "text": [
      "5\n"
     ]
    }
   ],
   "source": [
    "list = ['hammad','ayan','waleed','rafay',8,]\n",
    "print(len(list))\n"
   ]
  },
  {
   "cell_type": "code",
   "execution_count": 4,
   "metadata": {},
   "outputs": [
    {
     "name": "stdout",
     "output_type": "stream",
     "text": [
      "204\n"
     ]
    }
   ],
   "source": [
    "list = [8,44,16,57,39,40]\n",
    "print(sum(list))\n"
   ]
  },
  {
   "cell_type": "code",
   "execution_count": 7,
   "metadata": {},
   "outputs": [
    {
     "name": "stdout",
     "output_type": "stream",
     "text": [
      "Largest number is:  145\n"
     ]
    }
   ],
   "source": [
    "List = [10, 209, 120, 145, 99] \n",
    "List.sort()  \n",
    "print(\"Largest number is: \", List[3])\n"
   ]
  },
  {
   "cell_type": "code",
   "execution_count": 8,
   "metadata": {},
   "outputs": [
    {
     "name": "stdout",
     "output_type": "stream",
     "text": [
      "1\n",
      "\n",
      "1\n",
      "\n",
      "2\n",
      "\n",
      "3\n",
      "\n",
      "3\n",
      "\n",
      "1\n",
      "\n"
     ]
    }
   ],
   "source": [
    "testt_list= [1, 1, 2, 3, 5, 8, 13, 21 , 3, 34, 55, 89, 1]\n",
    "for element in testt_list:\n",
    "    if(int(element) <5):\n",
    "        print(str(element)+\"\\n\")\n"
   ]
  },
  {
   "cell_type": "code",
   "execution_count": null,
   "metadata": {},
   "outputs": [],
   "source": []
  }
 ],
 "metadata": {
  "kernelspec": {
   "display_name": "Python 3",
   "language": "python",
   "name": "python3"
  },
  "language_info": {
   "codemirror_mode": {
    "name": "ipython",
    "version": 3
   },
   "file_extension": ".py",
   "mimetype": "text/x-python",
   "name": "python",
   "nbconvert_exporter": "python",
   "pygments_lexer": "ipython3",
   "version": "3.7.4"
  }
 },
 "nbformat": 4,
 "nbformat_minor": 2
}
